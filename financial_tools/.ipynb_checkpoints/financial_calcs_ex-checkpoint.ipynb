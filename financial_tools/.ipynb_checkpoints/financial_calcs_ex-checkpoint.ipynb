{
 "cells": [
  {
   "cell_type": "code",
   "execution_count": 86,
   "metadata": {},
   "outputs": [],
   "source": [
    "import pandas as pd\n",
    "import numpy as np"
   ]
  },
  {
   "cell_type": "code",
   "execution_count": 87,
   "metadata": {},
   "outputs": [],
   "source": [
    "dtable = pd.read_csv('lev_data.csv')"
   ]
  },
  {
   "cell_type": "code",
   "execution_count": 88,
   "metadata": {},
   "outputs": [
    {
     "data": {
      "text/html": [
       "<div>\n",
       "<style scoped>\n",
       "    .dataframe tbody tr th:only-of-type {\n",
       "        vertical-align: middle;\n",
       "    }\n",
       "\n",
       "    .dataframe tbody tr th {\n",
       "        vertical-align: top;\n",
       "    }\n",
       "\n",
       "    .dataframe thead th {\n",
       "        text-align: right;\n",
       "    }\n",
       "</style>\n",
       "<table border=\"1\" class=\"dataframe\">\n",
       "  <thead>\n",
       "    <tr style=\"text-align: right;\">\n",
       "      <th></th>\n",
       "      <th>AGE</th>\n",
       "      <th>DESC</th>\n",
       "      <th>FREQ</th>\n",
       "      <th>AMT</th>\n",
       "    </tr>\n",
       "  </thead>\n",
       "  <tbody>\n",
       "    <tr>\n",
       "      <th>0</th>\n",
       "      <td>0</td>\n",
       "      <td>Chem SP</td>\n",
       "      <td>1</td>\n",
       "      <td>-85</td>\n",
       "    </tr>\n",
       "    <tr>\n",
       "      <th>1</th>\n",
       "      <td>0</td>\n",
       "      <td>Hersh Drag</td>\n",
       "      <td>1</td>\n",
       "      <td>-60</td>\n",
       "    </tr>\n",
       "    <tr>\n",
       "      <th>2</th>\n",
       "      <td>1</td>\n",
       "      <td>Bareroot OP Seedlings</td>\n",
       "      <td>1</td>\n",
       "      <td>-34</td>\n",
       "    </tr>\n",
       "    <tr>\n",
       "      <th>3</th>\n",
       "      <td>1</td>\n",
       "      <td>Reforest Hand</td>\n",
       "      <td>1</td>\n",
       "      <td>-48</td>\n",
       "    </tr>\n",
       "    <tr>\n",
       "      <th>4</th>\n",
       "      <td>15</td>\n",
       "      <td>Thin-1 40%</td>\n",
       "      <td>1</td>\n",
       "      <td>223</td>\n",
       "    </tr>\n",
       "    <tr>\n",
       "      <th>5</th>\n",
       "      <td>23</td>\n",
       "      <td>Thin-2 30%</td>\n",
       "      <td>1</td>\n",
       "      <td>345</td>\n",
       "    </tr>\n",
       "    <tr>\n",
       "      <th>6</th>\n",
       "      <td>30</td>\n",
       "      <td>Final Harvest</td>\n",
       "      <td>1</td>\n",
       "      <td>2046</td>\n",
       "    </tr>\n",
       "    <tr>\n",
       "      <th>7</th>\n",
       "      <td>30</td>\n",
       "      <td>Land Rent</td>\n",
       "      <td>0</td>\n",
       "      <td>-80</td>\n",
       "    </tr>\n",
       "  </tbody>\n",
       "</table>\n",
       "</div>"
      ],
      "text/plain": [
       "   AGE                   DESC  FREQ   AMT\n",
       "0    0                Chem SP     1   -85\n",
       "1    0             Hersh Drag     1   -60\n",
       "2    1  Bareroot OP Seedlings     1   -34\n",
       "3    1          Reforest Hand     1   -48\n",
       "4   15             Thin-1 40%     1   223\n",
       "5   23             Thin-2 30%     1   345\n",
       "6   30          Final Harvest     1  2046\n",
       "7   30              Land Rent     0   -80"
      ]
     },
     "execution_count": 88,
     "metadata": {},
     "output_type": "execute_result"
    }
   ],
   "source": [
    "dtable"
   ]
  },
  {
   "cell_type": "code",
   "execution_count": 98,
   "metadata": {},
   "outputs": [],
   "source": [
    "dtable = dtable.assign(FVAL = lambda x: x.AMT * np.power(1.01, x.AGE))"
   ]
  },
  {
   "cell_type": "code",
   "execution_count": 99,
   "metadata": {},
   "outputs": [
    {
     "data": {
      "text/html": [
       "<div>\n",
       "<style scoped>\n",
       "    .dataframe tbody tr th:only-of-type {\n",
       "        vertical-align: middle;\n",
       "    }\n",
       "\n",
       "    .dataframe tbody tr th {\n",
       "        vertical-align: top;\n",
       "    }\n",
       "\n",
       "    .dataframe thead th {\n",
       "        text-align: right;\n",
       "    }\n",
       "</style>\n",
       "<table border=\"1\" class=\"dataframe\">\n",
       "  <thead>\n",
       "    <tr style=\"text-align: right;\">\n",
       "      <th></th>\n",
       "      <th>AGE</th>\n",
       "      <th>DESC</th>\n",
       "      <th>FREQ</th>\n",
       "      <th>AMT</th>\n",
       "      <th>FVAL</th>\n",
       "    </tr>\n",
       "  </thead>\n",
       "  <tbody>\n",
       "    <tr>\n",
       "      <th>0</th>\n",
       "      <td>0</td>\n",
       "      <td>Chem SP</td>\n",
       "      <td>1</td>\n",
       "      <td>-85</td>\n",
       "      <td>-85.000000</td>\n",
       "    </tr>\n",
       "    <tr>\n",
       "      <th>1</th>\n",
       "      <td>0</td>\n",
       "      <td>Hersh Drag</td>\n",
       "      <td>1</td>\n",
       "      <td>-60</td>\n",
       "      <td>-60.000000</td>\n",
       "    </tr>\n",
       "    <tr>\n",
       "      <th>2</th>\n",
       "      <td>1</td>\n",
       "      <td>Bareroot OP Seedlings</td>\n",
       "      <td>1</td>\n",
       "      <td>-34</td>\n",
       "      <td>-34.340000</td>\n",
       "    </tr>\n",
       "    <tr>\n",
       "      <th>3</th>\n",
       "      <td>1</td>\n",
       "      <td>Reforest Hand</td>\n",
       "      <td>1</td>\n",
       "      <td>-48</td>\n",
       "      <td>-48.480000</td>\n",
       "    </tr>\n",
       "    <tr>\n",
       "      <th>4</th>\n",
       "      <td>15</td>\n",
       "      <td>Thin-1 40%</td>\n",
       "      <td>1</td>\n",
       "      <td>223</td>\n",
       "      <td>258.896077</td>\n",
       "    </tr>\n",
       "    <tr>\n",
       "      <th>5</th>\n",
       "      <td>23</td>\n",
       "      <td>Thin-2 30%</td>\n",
       "      <td>1</td>\n",
       "      <td>345</td>\n",
       "      <td>433.721241</td>\n",
       "    </tr>\n",
       "    <tr>\n",
       "      <th>6</th>\n",
       "      <td>30</td>\n",
       "      <td>Final Harvest</td>\n",
       "      <td>1</td>\n",
       "      <td>2046</td>\n",
       "      <td>2757.698881</td>\n",
       "    </tr>\n",
       "    <tr>\n",
       "      <th>7</th>\n",
       "      <td>30</td>\n",
       "      <td>Land Rent</td>\n",
       "      <td>0</td>\n",
       "      <td>-80</td>\n",
       "      <td>-107.827913</td>\n",
       "    </tr>\n",
       "  </tbody>\n",
       "</table>\n",
       "</div>"
      ],
      "text/plain": [
       "   AGE                   DESC  FREQ   AMT         FVAL\n",
       "0    0                Chem SP     1   -85   -85.000000\n",
       "1    0             Hersh Drag     1   -60   -60.000000\n",
       "2    1  Bareroot OP Seedlings     1   -34   -34.340000\n",
       "3    1          Reforest Hand     1   -48   -48.480000\n",
       "4   15             Thin-1 40%     1   223   258.896077\n",
       "5   23             Thin-2 30%     1   345   433.721241\n",
       "6   30          Final Harvest     1  2046  2757.698881\n",
       "7   30              Land Rent     0   -80  -107.827913"
      ]
     },
     "execution_count": 99,
     "metadata": {},
     "output_type": "execute_result"
    }
   ],
   "source": [
    "dtable"
   ]
  },
  {
   "cell_type": "code",
   "execution_count": 100,
   "metadata": {},
   "outputs": [],
   "source": [
    "interm_table = dtable.loc[lambda dtable: dtable.FREQ == 1, :].assign(PVAL = lambda x: x.FVAL * np.power(\n",
    "        1.04, np.negative(x.AGE)))"
   ]
  },
  {
   "cell_type": "code",
   "execution_count": 101,
   "metadata": {},
   "outputs": [
    {
     "data": {
      "text/html": [
       "<div>\n",
       "<style scoped>\n",
       "    .dataframe tbody tr th:only-of-type {\n",
       "        vertical-align: middle;\n",
       "    }\n",
       "\n",
       "    .dataframe tbody tr th {\n",
       "        vertical-align: top;\n",
       "    }\n",
       "\n",
       "    .dataframe thead th {\n",
       "        text-align: right;\n",
       "    }\n",
       "</style>\n",
       "<table border=\"1\" class=\"dataframe\">\n",
       "  <thead>\n",
       "    <tr style=\"text-align: right;\">\n",
       "      <th></th>\n",
       "      <th>AGE</th>\n",
       "      <th>DESC</th>\n",
       "      <th>FREQ</th>\n",
       "      <th>AMT</th>\n",
       "      <th>FVAL</th>\n",
       "      <th>PVAL</th>\n",
       "    </tr>\n",
       "  </thead>\n",
       "  <tbody>\n",
       "    <tr>\n",
       "      <th>0</th>\n",
       "      <td>0</td>\n",
       "      <td>Chem SP</td>\n",
       "      <td>1</td>\n",
       "      <td>-85</td>\n",
       "      <td>-85.000000</td>\n",
       "      <td>-85.000000</td>\n",
       "    </tr>\n",
       "    <tr>\n",
       "      <th>1</th>\n",
       "      <td>0</td>\n",
       "      <td>Hersh Drag</td>\n",
       "      <td>1</td>\n",
       "      <td>-60</td>\n",
       "      <td>-60.000000</td>\n",
       "      <td>-60.000000</td>\n",
       "    </tr>\n",
       "    <tr>\n",
       "      <th>2</th>\n",
       "      <td>1</td>\n",
       "      <td>Bareroot OP Seedlings</td>\n",
       "      <td>1</td>\n",
       "      <td>-34</td>\n",
       "      <td>-34.340000</td>\n",
       "      <td>-33.019231</td>\n",
       "    </tr>\n",
       "    <tr>\n",
       "      <th>3</th>\n",
       "      <td>1</td>\n",
       "      <td>Reforest Hand</td>\n",
       "      <td>1</td>\n",
       "      <td>-48</td>\n",
       "      <td>-48.480000</td>\n",
       "      <td>-46.615385</td>\n",
       "    </tr>\n",
       "    <tr>\n",
       "      <th>4</th>\n",
       "      <td>15</td>\n",
       "      <td>Thin-1 40%</td>\n",
       "      <td>1</td>\n",
       "      <td>223</td>\n",
       "      <td>258.896077</td>\n",
       "      <td>143.755801</td>\n",
       "    </tr>\n",
       "    <tr>\n",
       "      <th>5</th>\n",
       "      <td>23</td>\n",
       "      <td>Thin-2 30%</td>\n",
       "      <td>1</td>\n",
       "      <td>345</td>\n",
       "      <td>433.721241</td>\n",
       "      <td>175.972129</td>\n",
       "    </tr>\n",
       "    <tr>\n",
       "      <th>6</th>\n",
       "      <td>30</td>\n",
       "      <td>Final Harvest</td>\n",
       "      <td>1</td>\n",
       "      <td>2046</td>\n",
       "      <td>2757.698881</td>\n",
       "      <td>850.250046</td>\n",
       "    </tr>\n",
       "  </tbody>\n",
       "</table>\n",
       "</div>"
      ],
      "text/plain": [
       "   AGE                   DESC  FREQ   AMT         FVAL        PVAL\n",
       "0    0                Chem SP     1   -85   -85.000000  -85.000000\n",
       "1    0             Hersh Drag     1   -60   -60.000000  -60.000000\n",
       "2    1  Bareroot OP Seedlings     1   -34   -34.340000  -33.019231\n",
       "3    1          Reforest Hand     1   -48   -48.480000  -46.615385\n",
       "4   15             Thin-1 40%     1   223   258.896077  143.755801\n",
       "5   23             Thin-2 30%     1   345   433.721241  175.972129\n",
       "6   30          Final Harvest     1  2046  2757.698881  850.250046"
      ]
     },
     "execution_count": 101,
     "metadata": {},
     "output_type": "execute_result"
    }
   ],
   "source": [
    "interm_table"
   ]
  },
  {
   "cell_type": "code",
   "execution_count": 102,
   "metadata": {},
   "outputs": [
    {
     "data": {
      "text/plain": [
       "945.3433606097216"
      ]
     },
     "execution_count": 102,
     "metadata": {},
     "output_type": "execute_result"
    }
   ],
   "source": [
    "interm_table['PVAL'].sum()"
   ]
  },
  {
   "cell_type": "code",
   "execution_count": 103,
   "metadata": {},
   "outputs": [],
   "source": [
    "annual_table = dtable.loc[lambda dtable: dtable.FREQ == 0, :].assign(PVAL = lambda x: x.AMT * (np.power(\n",
    "        1.04, x.AGE) - 1) / (0.04 * np.power(1.04, x.AGE)))"
   ]
  },
  {
   "cell_type": "code",
   "execution_count": 104,
   "metadata": {},
   "outputs": [
    {
     "data": {
      "text/html": [
       "<div>\n",
       "<style scoped>\n",
       "    .dataframe tbody tr th:only-of-type {\n",
       "        vertical-align: middle;\n",
       "    }\n",
       "\n",
       "    .dataframe tbody tr th {\n",
       "        vertical-align: top;\n",
       "    }\n",
       "\n",
       "    .dataframe thead th {\n",
       "        text-align: right;\n",
       "    }\n",
       "</style>\n",
       "<table border=\"1\" class=\"dataframe\">\n",
       "  <thead>\n",
       "    <tr style=\"text-align: right;\">\n",
       "      <th></th>\n",
       "      <th>AGE</th>\n",
       "      <th>DESC</th>\n",
       "      <th>FREQ</th>\n",
       "      <th>AMT</th>\n",
       "      <th>FVAL</th>\n",
       "      <th>PVAL</th>\n",
       "    </tr>\n",
       "  </thead>\n",
       "  <tbody>\n",
       "    <tr>\n",
       "      <th>7</th>\n",
       "      <td>30</td>\n",
       "      <td>Land Rent</td>\n",
       "      <td>0</td>\n",
       "      <td>-80</td>\n",
       "      <td>-107.827913</td>\n",
       "      <td>-1383.362664</td>\n",
       "    </tr>\n",
       "  </tbody>\n",
       "</table>\n",
       "</div>"
      ],
      "text/plain": [
       "   AGE       DESC  FREQ  AMT        FVAL         PVAL\n",
       "7   30  Land Rent     0  -80 -107.827913 -1383.362664"
      ]
     },
     "execution_count": 104,
     "metadata": {},
     "output_type": "execute_result"
    }
   ],
   "source": [
    "annual_table"
   ]
  },
  {
   "cell_type": "code",
   "execution_count": 105,
   "metadata": {},
   "outputs": [],
   "source": [
    "npv = interm_table['PVAL'].sum() + annual_table['PVAL'].sum()"
   ]
  },
  {
   "cell_type": "code",
   "execution_count": 106,
   "metadata": {},
   "outputs": [
    {
     "data": {
      "text/plain": [
       "-438.0193034434375"
      ]
     },
     "execution_count": 106,
     "metadata": {},
     "output_type": "execute_result"
    }
   ],
   "source": [
    "npv"
   ]
  },
  {
   "cell_type": "code",
   "execution_count": null,
   "metadata": {},
   "outputs": [],
   "source": []
  }
 ],
 "metadata": {
  "kernelspec": {
   "display_name": "Conda (datasci)",
   "language": "python",
   "name": "datasci"
  },
  "language_info": {
   "codemirror_mode": {
    "name": "ipython",
    "version": 3
   },
   "file_extension": ".py",
   "mimetype": "text/x-python",
   "name": "python",
   "nbconvert_exporter": "python",
   "pygments_lexer": "ipython3",
   "version": "3.7.0"
  }
 },
 "nbformat": 4,
 "nbformat_minor": 2
}
